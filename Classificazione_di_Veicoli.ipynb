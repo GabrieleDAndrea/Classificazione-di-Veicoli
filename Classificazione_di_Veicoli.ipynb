{
  "nbformat": 4,
  "nbformat_minor": 0,
  "metadata": {
    "colab": {
      "provenance": [],
      "collapsed_sections": [
        "rtGu5MbOvfmG",
        "H6z6wt5lvm0p",
        "tBmaK3MivmoU",
        "RuvP43DEvkdL",
        "qTUFPiBa5mHV"
      ]
    },
    "kernelspec": {
      "name": "python3",
      "display_name": "Python 3"
    },
    "language_info": {
      "name": "python"
    }
  },
  "cells": [
    {
      "cell_type": "markdown",
      "source": [
        "##Analisi Preliminare"
      ],
      "metadata": {
        "id": "yjXmPlcXv1kw"
      }
    },
    {
      "cell_type": "code",
      "source": [
        "!pip install scikit-plot"
      ],
      "metadata": {
        "id": "zBpfAQrA1G7i"
      },
      "execution_count": null,
      "outputs": []
    },
    {
      "cell_type": "code",
      "source": [
        "!pip install kneed"
      ],
      "metadata": {
        "id": "JYxBr-yduc4K"
      },
      "execution_count": null,
      "outputs": []
    },
    {
      "cell_type": "code",
      "source": [
        "!pip install lime"
      ],
      "metadata": {
        "id": "IVz55oKuDwyM"
      },
      "execution_count": null,
      "outputs": []
    },
    {
      "cell_type": "code",
      "source": [
        "import sklearn\n",
        "import lime\n",
        "import lime.lime_tabular\n",
        "from lime import lime_tabular"
      ],
      "metadata": {
        "id": "0xu9P5o2DwvL"
      },
      "execution_count": null,
      "outputs": []
    },
    {
      "cell_type": "code",
      "execution_count": null,
      "metadata": {
        "id": "NphLRRGNV7FT"
      },
      "outputs": [],
      "source": [
        "import numpy as np\n",
        "import matplotlib.pyplot as plt\n",
        "import seaborn as sns\n",
        "from sklearn import datasets\n",
        "import scipy\n",
        "from sklearn.preprocessing import MinMaxScaler\n",
        "import pandas as pd\n",
        "import seaborn as sns\n",
        "import matplotlib.pyplot as plt\n",
        "\n",
        "# Librerie\n",
        "from numpy import mean\n",
        "from numpy import std\n",
        "from sklearn.datasets import make_classification\n",
        "from sklearn.model_selection import cross_val_score\n",
        "from sklearn.model_selection import RepeatedStratifiedKFold\n",
        "from sklearn.linear_model import LogisticRegression\n",
        "from sklearn.metrics import accuracy_score, classification_report\n",
        "import scikitplot as skplt\n",
        "\n",
        "from sklearn.model_selection import train_test_split \n",
        "from sklearn.tree import DecisionTreeClassifier \n",
        "from numpy import random\n",
        "\n",
        "from sklearn.neighbors import KNeighborsClassifier\n",
        "\n",
        "from sklearn import svm\n",
        "import sklearn.model_selection as model_selection\n",
        "from sklearn.metrics import f1_score\n",
        "from sklearn.svm import SVC\n",
        "from sklearn.model_selection import cross_val_score, GridSearchCV\n",
        "\n",
        "from kneed import KneeLocator\n",
        "from sklearn.datasets import make_blobs\n",
        "from sklearn.cluster import KMeans\n",
        "from sklearn.metrics import silhouette_score\n",
        "from sklearn.preprocessing import StandardScaler"
      ]
    },
    {
      "cell_type": "code",
      "source": [
        "data = pd.read_csv(\"vehicle.csv\")"
      ],
      "metadata": {
        "id": "0Bp5oontV9i7"
      },
      "execution_count": null,
      "outputs": []
    },
    {
      "cell_type": "code",
      "source": [
        "data.head(20)"
      ],
      "metadata": {
        "id": "1-VU50xntliL"
      },
      "execution_count": null,
      "outputs": []
    },
    {
      "cell_type": "code",
      "source": [
        "data.describe()"
      ],
      "metadata": {
        "id": "c7uODXli4Mq7"
      },
      "execution_count": null,
      "outputs": []
    },
    {
      "cell_type": "code",
      "source": [
        "data['Class'].value_counts()"
      ],
      "metadata": {
        "id": "cDKgGZd54QuY"
      },
      "execution_count": null,
      "outputs": []
    },
    {
      "cell_type": "code",
      "source": [
        "y = data[\"Class\"]\n",
        "X = data[['COMPACTNESS','CIRCULARITY','DISTANCE_CIRCULARITY','RADIUS_RATIO',\"PR.AXIS_ASPECT_RATIO\",\"MAX.LENGTH_ASPECT_RATIO\",\"SCATTER_RATIO\",\n",
        "          \"ELONGATEDNESS\",\"PR.AXIS_RECTANGULARITY\",\"MAX.LENGTH_RECTANGULARITY\",\"SCALED_VARIANCE_MAJOR\",\"SCALED_VARIANCE_MINOR\",\n",
        "          \"SCALED_RADIUS_OF_GYRATION\",\"SKEWNESS_ABOUT_MAJOR\",\"SKEWNESS_ABOUT_MINOR\",\"KURTOSIS_ABOUT_MAJOR\",\"KURTOSIS_ABOUT_MINOR\",\"HOLLOWS_RATIO\"]]"
      ],
      "metadata": {
        "id": "5lwfQpDyd9ai"
      },
      "execution_count": null,
      "outputs": []
    },
    {
      "cell_type": "code",
      "source": [
        "# initialising the MinMaxScaler\n",
        "scaler = MinMaxScaler(feature_range=(0,1))\n",
        "X = scaler.fit_transform(X)"
      ],
      "metadata": {
        "id": "9p680OY4V9Y3"
      },
      "execution_count": null,
      "outputs": []
    },
    {
      "cell_type": "code",
      "source": [
        "from sklearn.model_selection import train_test_split\n",
        "\n",
        "X_train, X_test, y_train, y_test = train_test_split(X,y,test_size=0.3,random_state=42)"
      ],
      "metadata": {
        "id": "OWHg7MLj0ZQQ"
      },
      "execution_count": null,
      "outputs": []
    },
    {
      "cell_type": "code",
      "source": [
        "# creating the bar plot\n",
        "ax=plt.subplots(1,1,figsize=(10,8))\n",
        "sns.countplot('Class',data=data)\n",
        "plt.title(\"Class Count\")\n",
        "plt.show()"
      ],
      "metadata": {
        "id": "-v_OuNZcV9Wc"
      },
      "execution_count": null,
      "outputs": []
    },
    {
      "cell_type": "code",
      "source": [
        "# Matrice di correlazione\n",
        "corr_data = data.corr(method='pearson')\n",
        "\n",
        "plt.figure(figsize=(10, 10))\n",
        "sns.heatmap(corr_data, annot=True)\n",
        "plt.show()"
      ],
      "metadata": {
        "id": "KbKSysrTV9T2"
      },
      "execution_count": null,
      "outputs": []
    },
    {
      "cell_type": "code",
      "source": [
        "classes=[\"van\",\"saab\",\"bus\",\"opel\"]\n",
        "features=['COMPACTNESS','CIRCULARITY','DISTANCE_CIRCULARITY','RADIUS_RATIO',\"PR.AXIS_ASPECT_RATIO\",\"MAX.LENGTH_ASPECT_RATIO\",\"SCATTER_RATIO\",\n",
        "          \"ELONGATEDNESS\",\"PR.AXIS_RECTANGULARITY\",\"MAX.LENGTH_RECTANGULARITY\",\"SCALED_VARIANCE_MAJOR\",\"SCALED_VARIANCE_MINOR\",\"SCALED_RADIUS_OF_GYRATION\",\n",
        "          \"SKEWNESS_ABOUT_MAJOR\",\"SKEWNESS_ABOUT_MINOR\",\"KURTOSIS_ABOUT_MAJOR\",\"KURTOSIS_ABOUT_MINOR\",\"HOLLOWS_RATIO\"]"
      ],
      "metadata": {
        "id": "U0gveAFx_9Hd"
      },
      "execution_count": null,
      "outputs": []
    },
    {
      "cell_type": "code",
      "source": [
        "feature_names = list(X.columns)"
      ],
      "metadata": {
        "id": "RBL6aXwdGUJ2"
      },
      "execution_count": null,
      "outputs": []
    },
    {
      "cell_type": "markdown",
      "source": [
        "##Regressione Logistica"
      ],
      "metadata": {
        "id": "rtGu5MbOvfmG"
      }
    },
    {
      "cell_type": "code",
      "source": [
        "# Modello\n",
        "logistic = LogisticRegression(multi_class='multinomial', solver='lbfgs')\n",
        "# Allenamento sui dati \n",
        "logistic.fit(X_train,y_train)\n",
        "# Previsione sui dati di test\n",
        "p_test=logistic.predict(X_test)"
      ],
      "metadata": {
        "id": "iwRmYK9sV9Ot"
      },
      "execution_count": null,
      "outputs": []
    },
    {
      "cell_type": "code",
      "source": [
        "# Precisione\n",
        "acc = accuracy_score(y_test, p_test) \n",
        "print(acc)"
      ],
      "metadata": {
        "id": "g-u-4MqUbRMB",
        "colab": {
          "base_uri": "https://localhost:8080/"
        },
        "outputId": "b8c74832-2bac-40da-c255-d7f8bf4ba05c"
      },
      "execution_count": null,
      "outputs": [
        {
          "output_type": "stream",
          "name": "stdout",
          "text": [
            "0.7283464566929134\n"
          ]
        }
      ]
    },
    {
      "cell_type": "code",
      "source": [
        "report=classification_report(p_test, y_test) \n",
        "print(report)"
      ],
      "metadata": {
        "id": "PPtkYnFzbRJr"
      },
      "execution_count": null,
      "outputs": []
    },
    {
      "cell_type": "code",
      "source": [
        "# Matrice di Confusione\n",
        "skplt.metrics.plot_confusion_matrix(p_test,y_test)\n",
        "plt.show()"
      ],
      "metadata": {
        "id": "3Q7CWG1ybRHX"
      },
      "execution_count": null,
      "outputs": []
    },
    {
      "cell_type": "code",
      "source": [
        "resultsDf=pd.DataFrame({'Model':['Logistic'],'Accuracy': logistic.score(X_test , y_test)},index={'1'})\n",
        "resultsDf=resultsDf[['Model','Accuracy']]\n",
        "resultsDf"
      ],
      "metadata": {
        "id": "HLjy6t4zz1dc"
      },
      "execution_count": null,
      "outputs": []
    },
    {
      "cell_type": "code",
      "source": [
        "# importing the required libraries\n",
        "import pandas as pd\n",
        "import numpy as np\n",
        "from sklearn.model_selection import train_test_split\n",
        "from sklearn.metrics import mean_squared_error\n",
        "\n",
        "from sklearn.linear_model import LinearRegression\n",
        "from sklearn.tree import DecisionTreeRegressor\n",
        "from sklearn.ensemble import RandomForestRegressor\n",
        "from xgboost.sklearn import XGBRegressor\n",
        "from sklearn.preprocessing import OneHotEncoder, LabelEncoder\n",
        "from sklearn import tree\n",
        "\n",
        "import matplotlib.pyplot as plt\n",
        "%matplotlib inline\n",
        "import warnings\n",
        "warnings.filterwarnings('ignore')"
      ],
      "metadata": {
        "id": "mJ_OK-Nn_pBa"
      },
      "execution_count": null,
      "outputs": []
    },
    {
      "cell_type": "code",
      "source": [
        "explainer = lime_tabular.LimeTabularExplainer(X_train, mode=\"classification\", class_names=classes, feature_names= features)\n",
        "\n",
        "idx = 5\n",
        "explanation = explainer.explain_instance(X_test[idx], logistic.predict_proba, num_features=len(features),top_labels=4)\n",
        "\n",
        "explanation.show_in_notebook()"
      ],
      "metadata": {
        "id": "9vhIwmDeLV9_"
      },
      "execution_count": null,
      "outputs": []
    },
    {
      "cell_type": "code",
      "source": [
        "explanation.show_in_notebook()"
      ],
      "metadata": {
        "id": "Qx253bEtK82m"
      },
      "execution_count": null,
      "outputs": []
    },
    {
      "cell_type": "markdown",
      "source": [
        "## KNN"
      ],
      "metadata": {
        "id": "H6z6wt5lvm0p"
      }
    },
    {
      "cell_type": "code",
      "source": [
        "parameters = {\n",
        "     \"n_neighbors\": range(1, 100),\n",
        "     \"weights\": [\"uniform\", \"distance\"],\n",
        " }\n",
        "knn = GridSearchCV(KNeighborsClassifier(), parameters)\n",
        "knn.fit(X_train, y_train)\n",
        "print(knn.best_params_)\n",
        "p_test = knn.predict(X_test)"
      ],
      "metadata": {
        "id": "uYb3OjGL8mwA",
        "colab": {
          "base_uri": "https://localhost:8080/"
        },
        "outputId": "33992be9-73b6-49d1-b766-b4d6c4be06ec"
      },
      "execution_count": null,
      "outputs": [
        {
          "output_type": "stream",
          "name": "stdout",
          "text": [
            "{'n_neighbors': 3, 'weights': 'distance'}\n"
          ]
        }
      ]
    },
    {
      "cell_type": "code",
      "source": [
        "# Precisione\n",
        "acc = accuracy_score(y_test, p_test) \n",
        "print(acc)"
      ],
      "metadata": {
        "id": "SDHT96lnADO6"
      },
      "execution_count": null,
      "outputs": []
    },
    {
      "cell_type": "code",
      "source": [
        "report=classification_report(p_test, y_test) \n",
        "print(report)"
      ],
      "metadata": {
        "id": "Jr8mbxN6_x3j"
      },
      "execution_count": null,
      "outputs": []
    },
    {
      "cell_type": "code",
      "source": [
        "# Matrice di Confusione\n",
        "skplt.metrics.plot_confusion_matrix(p_test,y_test)\n",
        "plt.show()"
      ],
      "metadata": {
        "id": "hEMWCKg__ydP"
      },
      "execution_count": null,
      "outputs": []
    },
    {
      "cell_type": "code",
      "source": [
        "explainer = lime_tabular.LimeTabularExplainer(X_train, mode=\"classification\", class_names=classes, feature_names= features)\n",
        "\n",
        "idx = 5\n",
        "explanation = explainer.explain_instance(X_test[idx], knn.predict_proba, num_features=len(features),top_labels=4)\n",
        "\n",
        "explanation.show_in_notebook()"
      ],
      "metadata": {
        "id": "404SSyQDWQMH"
      },
      "execution_count": null,
      "outputs": []
    },
    {
      "cell_type": "code",
      "source": [
        "tempResultsDf = pd.DataFrame({'Model':['KNN'], 'Accuracy': knn.score(X_test, y_test)},index={'2'})\n",
        "resultsDf = pd.concat([resultsDf, tempResultsDf])\n",
        "resultsDf = resultsDf[['Model','Accuracy']]\n",
        "resultsDf"
      ],
      "metadata": {
        "id": "yRkFd_3EWPxf"
      },
      "execution_count": null,
      "outputs": []
    },
    {
      "cell_type": "markdown",
      "source": [
        "## Multiclass Support Vector Machines"
      ],
      "metadata": {
        "id": "tBmaK3MivmoU"
      }
    },
    {
      "cell_type": "code",
      "source": [
        "params_grid = {'C': [0.1,1, 10, 100], 'gamma': [1,0.1,0.01,0.001],'kernel': ['rbf', 'poly', 'sigmoid',\"linear\"]}\n",
        "svm = GridSearchCV(SVC(probability=True), params_grid, cv=5)\n",
        "svm.fit(X_train,y_train)\n",
        "p_test=svm.predict(X_test)"
      ],
      "metadata": {
        "id": "zosVTOf_0AQt"
      },
      "execution_count": null,
      "outputs": []
    },
    {
      "cell_type": "code",
      "source": [
        "# View the accuracy score\n",
        "print('Best score for training data:', svm.best_score_,\"\\n\") \n",
        "\n",
        "# View the best parameters for the model found using grid search\n",
        "print('Best C:',svm.best_estimator_.C,\"\\n\") \n",
        "print('Best Kernel:',svm.best_estimator_.kernel,\"\\n\")\n",
        "print('Best Gamma:',svm.best_estimator_.gamma,\"\\n\")"
      ],
      "metadata": {
        "id": "aZODYFhRvsjO"
      },
      "execution_count": null,
      "outputs": []
    },
    {
      "cell_type": "code",
      "source": [
        "p_test"
      ],
      "metadata": {
        "id": "jO2JFbhYNFwB"
      },
      "execution_count": null,
      "outputs": []
    },
    {
      "cell_type": "code",
      "source": [
        "report=classification_report(p_test, y_test) \n",
        "print(report)"
      ],
      "metadata": {
        "id": "RW3lEg0Yvsgs"
      },
      "execution_count": null,
      "outputs": []
    },
    {
      "cell_type": "code",
      "source": [
        "# Matrice di Confusione\n",
        "skplt.metrics.plot_confusion_matrix(p_test,y_test)\n",
        "plt.show()"
      ],
      "metadata": {
        "id": "23SNS2VxvseA"
      },
      "execution_count": null,
      "outputs": []
    },
    {
      "cell_type": "code",
      "source": [
        "tempResultsDf = pd.DataFrame({'Model':['SVM'], 'Accuracy': svm.score(X_test, y_test)},index={'2'})\n",
        "resultsDf = pd.concat([resultsDf, tempResultsDf])\n",
        "resultsDf = resultsDf[['Model','Accuracy']]\n",
        "resultsDf"
      ],
      "metadata": {
        "id": "jlssDDM-vsa3"
      },
      "execution_count": null,
      "outputs": []
    },
    {
      "cell_type": "code",
      "source": [
        "explainer = lime_tabular.LimeTabularExplainer(X_train, mode=\"classification\", class_names=classes, feature_names= features)\n",
        "\n",
        "idx = 5\n",
        "explanation = explainer.explain_instance(X_test[idx], svm.predict_proba, num_features=len(features),top_labels=4)\n",
        "\n",
        "explanation.show_in_notebook()"
      ],
      "metadata": {
        "id": "pHh2rgnkIsvd"
      },
      "execution_count": null,
      "outputs": []
    },
    {
      "cell_type": "markdown",
      "source": [
        "## Risultati finali"
      ],
      "metadata": {
        "id": "RuvP43DEvkdL"
      }
    },
    {
      "cell_type": "code",
      "source": [
        "resultsDf=pd.DataFrame({'Model':['Logistic'],'Accuracy': logistic.score(X_test , y_test)},index={'1'})\n",
        "resultsDf=resultsDf[['Model','Accuracy']]\n",
        "resultsDf"
      ],
      "metadata": {
        "id": "fDTB_cnWvmv8"
      },
      "execution_count": null,
      "outputs": []
    },
    {
      "cell_type": "code",
      "source": [
        "#Store the accuracy results for each kernel in a dataframe for final comparison\n",
        "tempResultsDf = pd.DataFrame({'Model':['Decision Tree'], 'Accuracy': DTC.score(X_test, y_test)},index={'2'})\n",
        "resultsDf = pd.concat([resultsDf, tempResultsDf])\n",
        "resultsDf = resultsDf[['Model','Accuracy']]\n",
        "resultsDf"
      ],
      "metadata": {
        "id": "44FLn24_vnLm"
      },
      "execution_count": null,
      "outputs": []
    },
    {
      "cell_type": "code",
      "source": [
        "#Store the accuracy results for each kernel in a dataframe for final comparison\n",
        "tempResultsDf = pd.DataFrame({'Model':['KNN'], 'Accuracy': knn.score(X_test,y_test)},index={'3'})\n",
        "resultsDf = pd.concat([resultsDf, tempResultsDf])\n",
        "resultsDf = resultsDf[['Model','Accuracy']]\n",
        "resultsDf"
      ],
      "metadata": {
        "id": "6MIfVU2bvnIO"
      },
      "execution_count": null,
      "outputs": []
    },
    {
      "cell_type": "code",
      "source": [
        "#Store the accuracy results for each kernel in a dataframe for final comparison\n",
        "tempResultsDf = pd.DataFrame({'Model':['SVM'], 'Accuracy': svm.score(X_test, y_test)},index={'4'})\n",
        "resultsDf = pd.concat([resultsDf, tempResultsDf])\n",
        "resultsDf = resultsDf[['Model','Accuracy']]\n",
        "resultsDf"
      ],
      "metadata": {
        "id": "8HpbcgMqvnFo"
      },
      "execution_count": null,
      "outputs": []
    },
    {
      "cell_type": "code",
      "source": [],
      "metadata": {
        "id": "x3MtNQ0avm_W"
      },
      "execution_count": null,
      "outputs": []
    },
    {
      "cell_type": "code",
      "source": [],
      "metadata": {
        "id": "w8SbYF6jvmzF"
      },
      "execution_count": null,
      "outputs": []
    },
    {
      "cell_type": "markdown",
      "source": [
        "## Bagging"
      ],
      "metadata": {
        "id": "qTUFPiBa5mHV"
      }
    },
    {
      "cell_type": "code",
      "source": [
        "from sklearn import model_selection\n",
        "from sklearn.ensemble import BaggingClassifier\n",
        "from sklearn.tree import DecisionTreeClassifier\n",
        "import pandas as pd"
      ],
      "metadata": {
        "id": "wOcp1fCq5lh7"
      },
      "execution_count": null,
      "outputs": []
    },
    {
      "cell_type": "code",
      "source": [
        "models = []\n",
        "scores = []\n",
        "\n",
        "for n_estimators in range(1,101):\n",
        "\n",
        "    # Create bagging classifier\n",
        "    clf = BaggingClassifier(n_estimators = n_estimators, random_state = 100)\n",
        "\n",
        "    # Fit the model\n",
        "    clf.fit(X_train, y_train)\n",
        "\n",
        "    # Append the model and score to their respective list\n",
        "    models.append(clf)\n",
        "    scores.append(accuracy_score(y_true = y_test, y_pred = clf.predict(X_test)))"
      ],
      "metadata": {
        "id": "BMks2CgECGFs"
      },
      "execution_count": null,
      "outputs": []
    },
    {
      "cell_type": "code",
      "source": [
        "import matplotlib.pyplot as plt\n",
        "\n",
        "# Generate the plot of scores against number of estimators\n",
        "plt.figure(figsize=(9,6))\n",
        "plt.plot(range(1,101), scores)\n",
        "\n",
        "# Adjust labels and font (to make visable)\n",
        "plt.xlabel(\"n_estimators\", fontsize = 18)\n",
        "plt.ylabel(\"score\", fontsize = 18)\n",
        "plt.tick_params(labelsize = 16)\n",
        "\n",
        "# Visualize plot\n",
        "plt.show()"
      ],
      "metadata": {
        "id": "xkjKJ5uHDNMn"
      },
      "execution_count": null,
      "outputs": []
    },
    {
      "cell_type": "code",
      "source": [
        "bag=BaggingClassifier(DecisionTreeClassifier(criterion = \"gini\", random_state = 100),\n",
        "                     n_estimators=18)\n",
        "bag.fit(X_train,y_train)\n",
        "p_test=bag.predict(X_test)"
      ],
      "metadata": {
        "id": "ulyVkqcGDlhd"
      },
      "execution_count": null,
      "outputs": []
    },
    {
      "cell_type": "code",
      "source": [
        "print(classification_report(y_test,p_test))"
      ],
      "metadata": {
        "id": "sH549hiN5n8B"
      },
      "execution_count": null,
      "outputs": []
    },
    {
      "cell_type": "code",
      "source": [
        "# Matrice di Confusione\n",
        "skplt.metrics.plot_confusion_matrix(p_test,y_test)\n",
        "plt.show()"
      ],
      "metadata": {
        "id": "bSZBhtV85n2Z"
      },
      "execution_count": null,
      "outputs": []
    },
    {
      "cell_type": "code",
      "source": [
        "import seaborn as sns\n",
        "features =['COMPACTNESS','CIRCULARITY','DISTANCE_CIRCULARITY','RADIUS_RATIO',\"PR.AXIS_ASPECT_RATIO\",\"MAX.LENGTH_ASPECT_RATIO\",\"SCATTER_RATIO\",\"ELONGATEDNESS\",\"PR.AXIS_RECTANGULARITY\",\"MAX.LENGTH_RECTANGULARITY\",\"SCALED_VARIANCE_MAJOR\",\"SCALED_VARIANCE_MINOR\",\"SCALED_RADIUS_OF_GYRATION\",\"SKEWNESS_ABOUT_MAJOR\",\"SKEWNESS_ABOUT_MINOR\",\"KURTOSIS_ABOUT_MAJOR\",\"KURTOSIS_ABOUT_MINOR\",\"HOLLOWS_RATIO\"]\n",
        "all_feat_imp_df = pd.DataFrame(data=[tree.feature_importances_ for tree in \n",
        "                                     h],\n",
        "                               columns=features)\n",
        "(sns.boxplot(data=all_feat_imp_df)\n",
        "        .set(title='Feature Importance Distributions',\n",
        "             ylabel='Importance'));"
      ],
      "metadata": {
        "id": "js4a0JmmZNDw"
      },
      "execution_count": null,
      "outputs": []
    },
    {
      "cell_type": "code",
      "source": [
        "explainer = lime_tabular.LimeTabularExplainer(X_train, mode=\"classification\", class_names=classes, feature_names= features)\n",
        "\n",
        "idx = 5\n",
        "explanation = explainer.explain_instance(X_test[idx], bag.predict_proba, num_features=len(features),top_labels=4)\n",
        "\n",
        "explanation.show_in_notebook()"
      ],
      "metadata": {
        "id": "Vzz1I6P_6bJZ"
      },
      "execution_count": null,
      "outputs": []
    },
    {
      "cell_type": "code",
      "source": [
        "with plt.style.context(\"ggplot\"):\n",
        "    explanation.as_pyplot_figure()"
      ],
      "metadata": {
        "id": "UmkLXqTr6bDy"
      },
      "execution_count": null,
      "outputs": []
    },
    {
      "cell_type": "code",
      "source": [
        "tempResultsDf = pd.DataFrame({'Model':['Bagging'], 'Accuracy': bag.score(X_test, y_test)},index={'2'})\n",
        "resultsDf = pd.concat([resultsDf, tempResultsDf])\n",
        "resultsDf = resultsDf[['Model','Accuracy']]\n",
        "resultsDf"
      ],
      "metadata": {
        "id": "KvuvyRrD_IPL"
      },
      "execution_count": null,
      "outputs": []
    }
  ]
}